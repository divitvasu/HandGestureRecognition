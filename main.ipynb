{
  "nbformat": 4,
  "nbformat_minor": 0,
  "metadata": {
    "colab": {
      "name": "main.ipynb",
      "version": "0.3.2",
      "provenance": [],
      "machine_shape": "hm",
      "include_colab_link": true
    },
    "kernelspec": {
      "name": "python3",
      "display_name": "Python 3"
    },
    "accelerator": "TPU"
  },
  "cells": [
    {
      "cell_type": "markdown",
      "metadata": {
        "id": "view-in-github",
        "colab_type": "text"
      },
      "source": [
        "<a href=\"https://colab.research.google.com/github/jainkrunal/HandGestureRecognition/blob/master/main.ipynb\" target=\"_parent\"><img src=\"https://colab.research.google.com/assets/colab-badge.svg\" alt=\"Open In Colab\"/></a>"
      ]
    },
    {
      "cell_type": "code",
      "metadata": {
        "id": "rYwTJGOxMUxE",
        "colab_type": "code",
        "outputId": "a6a78599-c512-43c0-f9ea-0dd67d200085",
        "colab": {
          "base_uri": "https://localhost:8080/",
          "height": 136
        }
      },
      "source": [
        "! git clone https://github.com/jainkrunal/HandGestureRecognition\n",
        "  "
      ],
      "execution_count": 0,
      "outputs": [
        {
          "output_type": "stream",
          "text": [
            "Cloning into 'HandGestureRecognition'...\n",
            "remote: Enumerating objects: 5181, done.\u001b[K\n",
            "remote: Counting objects: 100% (5181/5181), done.\u001b[K\n",
            "remote: Compressing objects: 100% (5178/5178), done.\u001b[K\n",
            "remote: Total 5181 (delta 1), reused 5178 (delta 1), pack-reused 0\u001b[K\n",
            "Receiving objects: 100% (5181/5181), 69.32 MiB | 36.48 MiB/s, done.\n",
            "Resolving deltas: 100% (1/1), done.\n"
          ],
          "name": "stdout"
        }
      ]
    },
    {
      "cell_type": "code",
      "metadata": {
        "id": "X5aLZHiVM3zv",
        "colab_type": "code",
        "outputId": "ef553d21-cbda-459b-e201-77ec3467ef59",
        "colab": {
          "base_uri": "https://localhost:8080/",
          "height": 34
        }
      },
      "source": [
        "! ls"
      ],
      "execution_count": 0,
      "outputs": [
        {
          "output_type": "stream",
          "text": [
            "HandGestureRecognition\tsample_data\n"
          ],
          "name": "stdout"
        }
      ]
    },
    {
      "cell_type": "code",
      "metadata": {
        "id": "KhziSnJPMuG2",
        "colab_type": "code",
        "colab": {}
      },
      "source": [
        "from skimage import transform\n",
        "from skimage import data\n",
        "import matplotlib.pyplot as plt\n",
        "import os\n",
        "import numpy as np\n",
        "from skimage.color import rgb2gray\n",
        "import random\n",
        "import tensorflow as tf\n",
        "\n",
        "def load_data(data_directory):\n",
        "    directories = [d for d in os.listdir(data_directory) \n",
        "                   if os.path.isdir(os.path.join(data_directory, d))]\n",
        "    labels = []\n",
        "    images = []\n",
        "    for d in directories:\n",
        "        label_directory = os.path.join(data_directory, d)\n",
        "        file_names = [os.path.join(label_directory, f) for f in os.listdir(label_directory)]\n",
        "        for f in file_names:\n",
        "            images.append(data.imread(f))\n",
        "            labels.append(ord(d))\n",
        "    return images, labels\n",
        "\n",
        "ROOT_PATH=\"HandGestureRecognition/Data\"\n",
        "train_data_directory=os.path.join(ROOT_PATH, \"train\")\n",
        "\n",
        "images, labels=load_data(train_data_directory)\n"
      ],
      "execution_count": 0,
      "outputs": []
    }
  ]
}