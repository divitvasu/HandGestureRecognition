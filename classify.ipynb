{
  "nbformat": 4,
  "nbformat_minor": 0,
  "metadata": {
    "colab": {
      "name": "classify.ipynb",
      "provenance": [],
      "collapsed_sections": []
    },
    "kernelspec": {
      "name": "python3",
      "display_name": "Python 3"
    },
    "accelerator": "GPU"
  },
  "cells": [
    {
      "cell_type": "code",
      "metadata": {
        "id": "rqB1cD6obJoV",
        "colab_type": "code",
        "outputId": "33bdb5b3-709c-40dc-e840-4f547eeed3e8",
        "colab": {
          "base_uri": "https://localhost:8080/",
          "height": 147
        }
      },
      "source": [
        "! git clone https://github.com/jainkrunal/HandGestureRecognition\n"
      ],
      "execution_count": 0,
      "outputs": [
        {
          "output_type": "stream",
          "text": [
            "Cloning into 'HandGestureRecognition'...\n",
            "remote: Enumerating objects: 27, done.\u001b[K\n",
            "remote: Counting objects: 100% (27/27), done.\u001b[K\n",
            "remote: Compressing objects: 100% (23/23), done.\u001b[K\n",
            "remote: Total 5354 (delta 6), reused 19 (delta 4), pack-reused 5327\u001b[K\n",
            "Receiving objects: 100% (5354/5354), 253.40 MiB | 37.89 MiB/s, done.\n",
            "Resolving deltas: 100% (24/24), done.\n"
          ],
          "name": "stdout"
        }
      ]
    },
    {
      "cell_type": "code",
      "metadata": {
        "id": "H7dPwJVLbQeS",
        "colab_type": "code",
        "outputId": "d6967759-98c8-441f-a384-901df8720120",
        "colab": {
          "base_uri": "https://localhost:8080/",
          "height": 84
        }
      },
      "source": [
        "\n",
        "import matplotlib.pyplot as plt\n",
        "import os\n",
        "import numpy as np\n",
        "from skimage.color import rgb2gray\n",
        "from PIL import Image\n",
        "\n",
        "import random\n",
        "import tensorflow as tf\n",
        "from keras.utils.np_utils import to_categorical # convert to one-hot-encoding\n",
        "from tensorflow.keras.models import Sequential\n",
        "from tensorflow.keras.layers import Convolution2D\n",
        "from tensorflow.keras.layers import MaxPooling2D\n",
        "from tensorflow.keras.layers import Flatten\n",
        "from tensorflow.keras.layers import Dense\n",
        "from tensorflow.keras.layers import Dropout\n",
        "from tensorflow.keras.optimizers import Adam\n"
      ],
      "execution_count": 0,
      "outputs": [
        {
          "output_type": "display_data",
          "data": {
            "text/html": [
              "<p style=\"color: red;\">\n",
              "The default version of TensorFlow in Colab will soon switch to TensorFlow 2.x.<br>\n",
              "We recommend you <a href=\"https://www.tensorflow.org/guide/migrate\" target=\"_blank\">upgrade</a> now \n",
              "or ensure your notebook will continue to use TensorFlow 1.x via the <code>%tensorflow_version 1.x</code> magic:\n",
              "<a href=\"https://colab.research.google.com/notebooks/tensorflow_version.ipynb\" target=\"_blank\">more info</a>.</p>\n"
            ],
            "text/plain": [
              "<IPython.core.display.HTML object>"
            ]
          },
          "metadata": {
            "tags": []
          }
        },
        {
          "output_type": "stream",
          "text": [
            "Using TensorFlow backend.\n"
          ],
          "name": "stderr"
        }
      ]
    },
    {
      "cell_type": "code",
      "metadata": {
        "id": "FvtFNdNQr2gd",
        "colab_type": "code",
        "colab": {}
      },
      "source": [
        "labels_dict={\"1\":\"one\",\"2\":\"two\",\"3\":\"three\",\"4\":\"four\",\"5\":\"five\"}\n",
        "def load_data(data_directory):\n",
        "    directories = [d for d in os.listdir(data_directory) \n",
        "                   if os.path.isdir(os.path.join(data_directory, d))]\n",
        "    labels = []\n",
        "    images = []\n",
        "    for d in directories:\n",
        "        label_directory = os.path.join(data_directory, d)\n",
        "        file_names = [os.path.join(label_directory, f) for f in os.listdir(label_directory)]\n",
        "        for f in file_names:\n",
        "            images.append(Image.open(f))\n",
        "\n",
        "            labels.append(int(d)-1)\n",
        "    return images, labels\n",
        "  \n",
        "#start = timer()\n",
        "\n",
        "ROOT_PATH=\"HandGestureRecognition/Data\"\n",
        "train_data_directory=os.path.join(ROOT_PATH, \"train\")\n",
        "test_data_directory=os.path.join(ROOT_PATH, \"test\")\n",
        "\n",
        "train_data, train_labels=load_data(train_data_directory)\n",
        "test_data, test_labels=load_data(test_data_directory)\n",
        "#timer() - start"
      ],
      "execution_count": 0,
      "outputs": []
    },
    {
      "cell_type": "code",
      "metadata": {
        "id": "VgOiEAq2bKsF",
        "colab_type": "code",
        "colab": {}
      },
      "source": [
        "#  Resize\n",
        "def image_resize(images):\n",
        "  images32 = [np.asarray(image.resize((28,28))) for image in images]\n",
        "  images32 = np.array(images32)\n",
        "  return images32\n",
        "#start = timer()\n",
        "train_data = image_resize(train_data)\n",
        "test_data = image_resize(test_data)\n",
        "#timer() - start\n",
        "\n",
        "train_data, test_data = train_data / 255.0, test_data / 255.0"
      ],
      "execution_count": 0,
      "outputs": []
    },
    {
      "cell_type": "code",
      "metadata": {
        "id": "OHzAYKuFed1J",
        "colab_type": "code",
        "outputId": "d47c9563-23d4-4765-ded5-6ffefe01312e",
        "colab": {
          "base_uri": "https://localhost:8080/",
          "height": 36
        }
      },
      "source": [
        "test_labels\n"
      ],
      "execution_count": 0,
      "outputs": [
        {
          "output_type": "execute_result",
          "data": {
            "text/plain": [
              "[1, 1, 1, 1, 1, 0, 0, 0, 0, 0, 2, 2, 2, 2, 2, 4, 4, 4, 4, 4, 3, 3, 3, 3, 3]"
            ]
          },
          "metadata": {
            "tags": []
          },
          "execution_count": 5
        }
      ]
    },
    {
      "cell_type": "code",
      "metadata": {
        "id": "0ANOAiubbHFT",
        "colab_type": "code",
        "colab": {}
      },
      "source": [
        "\n",
        "train_labels = to_categorical(train_labels, num_classes = 5)\n",
        "\n",
        "test_labels = to_categorical(test_labels, num_classes = 5)"
      ],
      "execution_count": 0,
      "outputs": []
    },
    {
      "cell_type": "code",
      "metadata": {
        "id": "Nde7-sDTboIF",
        "colab_type": "code",
        "outputId": "b7343c98-ea22-48bc-d4ce-3973e3f32a69",
        "colab": {
          "base_uri": "https://localhost:8080/",
          "height": 284
        }
      },
      "source": [
        "#train_data = rgb2gray(np.array(train_data))\n",
        "#test_data = rgb2gray(np.array(test_data))\n",
        "plt.imshow(train_data[0])\n",
        "\n"
      ],
      "execution_count": 0,
      "outputs": [
        {
          "output_type": "execute_result",
          "data": {
            "text/plain": [
              "<matplotlib.image.AxesImage at 0x7ff6267beda0>"
            ]
          },
          "metadata": {
            "tags": []
          },
          "execution_count": 7
        },
        {
          "output_type": "display_data",
          "data": {
            "image/png": "[encoded data removed]",
            "text/plain": [
              "<Figure size 432x288 with 1 Axes>"
            ]
          },
          "metadata": {
            "tags": []
          }
        }
      ]
    },
    {
      "cell_type": "code",
      "metadata": {
        "id": "u4X92tsBk4eP",
        "colab_type": "code",
        "outputId": "0e8c93f1-0794-446e-e42a-ef446f903a66",
        "colab": {
          "base_uri": "https://localhost:8080/",
          "height": 36
        }
      },
      "source": [
        "train_data.shape\n"
      ],
      "execution_count": 0,
      "outputs": [
        {
          "output_type": "execute_result",
          "data": {
            "text/plain": [
              "(82, 28, 28, 3)"
            ]
          },
          "metadata": {
            "tags": []
          },
          "execution_count": 8
        }
      ]
    },
    {
      "cell_type": "code",
      "metadata": {
        "id": "Qv8pSMg3fsWU",
        "colab_type": "code",
        "outputId": "60cca15e-46bc-4784-fca5-4818ba8d691a",
        "colab": {
          "base_uri": "https://localhost:8080/",
          "height": 93
        }
      },
      "source": [
        "\"\"\"model=Sequential()\n",
        "model.add(Convolution2D(32, (3, 3), strides=(2, 2), activation='relu', input_shape=(300,300,3))) \n",
        "model.add(MaxPooling2D((2, 2)))\n",
        "model.add(Convolution2D(64, (3, 3), activation='relu')) \n",
        "model.add(MaxPooling2D((2, 2)))\n",
        "model.add(Convolution2D(64, (3, 3), activation='relu'))\n",
        "model.add(MaxPooling2D((2, 2)))\n",
        "model.add(Flatten())\n",
        "model.add(Dense(128, activation='relu'))\n",
        "model.add(Dense(5, activation='softmax'))\n",
        "\"\"\"\n",
        "\n",
        "model = Sequential()\n",
        "\n",
        "\n",
        "\n",
        "model.add(Convolution2D(filters = 32, kernel_size = (5,5),padding = 'Same', activation ='relu', input_shape = (28,28,3)))\n",
        "model.add(Convolution2D(filters = 32, kernel_size = (5,5),padding = 'Same', activation ='relu'))\n",
        "model.add(MaxPooling2D(pool_size=(2,2)))\n",
        "model.add(Dropout(0.25))\n",
        "\n",
        "model.add(Convolution2D(filters = 64, kernel_size = (3,3),padding = 'Same', activation ='relu'))\n",
        "model.add(Convolution2D(filters = 64, kernel_size = (3,3),padding = 'Same', activation ='relu'))\n",
        "model.add(MaxPooling2D(pool_size=(2,2), strides=(2,2)))\n",
        "model.add(Dropout(0.25))\n",
        "\n",
        "model.add(Flatten())\n",
        "model.add(Dense(256, activation = \"relu\"))\n",
        "model.add(Dropout(0.5))\n",
        "model.add(Dense(5, activation = \"softmax\"))"
      ],
      "execution_count": 0,
      "outputs": [
        {
          "output_type": "stream",
          "text": [
            "WARNING:tensorflow:From /usr/local/lib/python3.6/dist-packages/tensorflow_core/python/ops/resource_variable_ops.py:1630: calling BaseResourceVariable.__init__ (from tensorflow.python.ops.resource_variable_ops) with constraint is deprecated and will be removed in a future version.\n",
            "Instructions for updating:\n",
            "If using Keras pass *_constraint arguments to layers.\n"
          ],
          "name": "stdout"
        }
      ]
    },
    {
      "cell_type": "code",
      "metadata": {
        "id": "66H2Zz8ng3Je",
        "colab_type": "code",
        "colab": {}
      },
      "source": [
        "model.compile(optimizer='adam',\n",
        "              loss='categorical_crossentropy',\n",
        "              metrics=['accuracy'])"
      ],
      "execution_count": 0,
      "outputs": []
    },
    {
      "cell_type": "code",
      "metadata": {
        "id": "5lmUYHSyY-Hu",
        "colab_type": "code",
        "colab": {}
      },
      "source": [
        "#model.get_config()"
      ],
      "execution_count": 0,
      "outputs": []
    },
    {
      "cell_type": "code",
      "metadata": {
        "id": "PipZhkZ1hPwp",
        "colab_type": "code",
        "outputId": "1e2ba025-4797-4c7b-b0e6-3d9eeb6bca30",
        "colab": {
          "base_uri": "https://localhost:8080/",
          "height": 1000
        }
      },
      "source": [
        "model.fit(train_data, train_labels, epochs=100)\n"
      ],
      "execution_count": 0,
      "outputs": [
        {
          "output_type": "stream",
          "text": [
            "Train on 82 samples\n",
            "Epoch 1/100\n",
            "82/82 [==============================] - 3s 40ms/sample - loss: 1.8883 - acc: 0.2805\n",
            "Epoch 2/100\n",
            "82/82 [==============================] - 0s 194us/sample - loss: 1.5118 - acc: 0.3049\n",
            "Epoch 3/100\n",
            "82/82 [==============================] - 0s 195us/sample - loss: 1.5178 - acc: 0.3049\n",
            "Epoch 4/100\n",
            "82/82 [==============================] - 0s 191us/sample - loss: 1.4842 - acc: 0.3293\n",
            "Epoch 5/100\n",
            "82/82 [==============================] - 0s 233us/sample - loss: 1.4261 - acc: 0.3293\n",
            "Epoch 6/100\n",
            "82/82 [==============================] - 0s 185us/sample - loss: 1.4534 - acc: 0.2439\n",
            "Epoch 7/100\n",
            "82/82 [==============================] - 0s 178us/sample - loss: 1.4647 - acc: 0.3293\n",
            "Epoch 8/100\n",
            "82/82 [==============================] - 0s 186us/sample - loss: 1.4789 - acc: 0.2927\n",
            "Epoch 9/100\n",
            "82/82 [==============================] - 0s 219us/sample - loss: 1.4434 - acc: 0.3049\n",
            "Epoch 10/100\n",
            "82/82 [==============================] - 0s 219us/sample - loss: 1.4070 - acc: 0.3537\n",
            "Epoch 11/100\n",
            "82/82 [==============================] - 0s 186us/sample - loss: 1.3992 - acc: 0.3537\n",
            "Epoch 12/100\n",
            "82/82 [==============================] - 0s 177us/sample - loss: 1.3868 - acc: 0.3415\n",
            "Epoch 13/100\n",
            "82/82 [==============================] - 0s 183us/sample - loss: 1.4130 - acc: 0.2561\n",
            "Epoch 14/100\n",
            "82/82 [==============================] - 0s 181us/sample - loss: 1.3507 - acc: 0.4512\n",
            "Epoch 15/100\n",
            "82/82 [==============================] - 0s 183us/sample - loss: 1.3405 - acc: 0.3537\n",
            "Epoch 16/100\n",
            "82/82 [==============================] - 0s 172us/sample - loss: 1.2765 - acc: 0.4024\n",
            "Epoch 17/100\n",
            "82/82 [==============================] - 0s 180us/sample - loss: 1.2879 - acc: 0.4756\n",
            "Epoch 18/100\n",
            "82/82 [==============================] - 0s 227us/sample - loss: 1.1154 - acc: 0.5244\n",
            "Epoch 19/100\n",
            "82/82 [==============================] - 0s 243us/sample - loss: 1.0422 - acc: 0.6220\n",
            "Epoch 20/100\n",
            "82/82 [==============================] - 0s 186us/sample - loss: 0.9859 - acc: 0.5976\n",
            "Epoch 21/100\n",
            "82/82 [==============================] - 0s 180us/sample - loss: 0.8636 - acc: 0.6829\n",
            "Epoch 22/100\n",
            "82/82 [==============================] - 0s 196us/sample - loss: 0.7648 - acc: 0.7439\n",
            "Epoch 23/100\n",
            "82/82 [==============================] - 0s 225us/sample - loss: 0.8167 - acc: 0.6829\n",
            "Epoch 24/100\n",
            "82/82 [==============================] - 0s 215us/sample - loss: 0.7021 - acc: 0.7073\n",
            "Epoch 25/100\n",
            "82/82 [==============================] - 0s 201us/sample - loss: 0.5503 - acc: 0.7927\n",
            "Epoch 26/100\n",
            "82/82 [==============================] - 0s 202us/sample - loss: 0.4082 - acc: 0.8415\n",
            "Epoch 27/100\n",
            "82/82 [==============================] - 0s 265us/sample - loss: 0.4895 - acc: 0.8415\n",
            "Epoch 28/100\n",
            "82/82 [==============================] - 0s 178us/sample - loss: 0.3761 - acc: 0.8780\n",
            "Epoch 29/100\n",
            "82/82 [==============================] - 0s 186us/sample - loss: 0.3455 - acc: 0.8902\n",
            "Epoch 30/100\n",
            "82/82 [==============================] - 0s 220us/sample - loss: 0.3160 - acc: 0.8902\n",
            "Epoch 31/100\n",
            "82/82 [==============================] - 0s 201us/sample - loss: 0.2831 - acc: 0.9024\n",
            "Epoch 32/100\n",
            "82/82 [==============================] - 0s 189us/sample - loss: 0.1798 - acc: 0.9512\n",
            "Epoch 33/100\n",
            "82/82 [==============================] - 0s 224us/sample - loss: 0.1898 - acc: 0.9146\n",
            "Epoch 34/100\n",
            "82/82 [==============================] - 0s 211us/sample - loss: 0.2193 - acc: 0.9512\n",
            "Epoch 35/100\n",
            "82/82 [==============================] - 0s 212us/sample - loss: 0.1407 - acc: 0.9512\n",
            "Epoch 36/100\n",
            "82/82 [==============================] - 0s 194us/sample - loss: 0.2342 - acc: 0.8780\n",
            "Epoch 37/100\n",
            "82/82 [==============================] - 0s 195us/sample - loss: 0.1623 - acc: 0.9268\n",
            "Epoch 38/100\n",
            "82/82 [==============================] - 0s 218us/sample - loss: 0.1625 - acc: 0.9390\n",
            "Epoch 39/100\n",
            "82/82 [==============================] - 0s 202us/sample - loss: 0.1230 - acc: 0.9268\n",
            "Epoch 40/100\n",
            "82/82 [==============================] - 0s 216us/sample - loss: 0.1983 - acc: 0.9390\n",
            "Epoch 41/100\n",
            "82/82 [==============================] - 0s 230us/sample - loss: 0.1179 - acc: 0.9512\n",
            "Epoch 42/100\n",
            "82/82 [==============================] - 0s 176us/sample - loss: 0.0537 - acc: 0.9756\n",
            "Epoch 43/100\n",
            "82/82 [==============================] - 0s 275us/sample - loss: 0.1242 - acc: 0.9512\n",
            "Epoch 44/100\n",
            "82/82 [==============================] - 0s 214us/sample - loss: 0.0636 - acc: 0.9756\n",
            "Epoch 45/100\n",
            "82/82 [==============================] - 0s 221us/sample - loss: 0.0940 - acc: 0.9634\n",
            "Epoch 46/100\n",
            "82/82 [==============================] - 0s 194us/sample - loss: 0.1245 - acc: 0.9390\n",
            "Epoch 47/100\n",
            "82/82 [==============================] - 0s 199us/sample - loss: 0.0694 - acc: 0.9634\n",
            "Epoch 48/100\n",
            "82/82 [==============================] - 0s 191us/sample - loss: 0.1196 - acc: 0.9512\n",
            "Epoch 49/100\n",
            "82/82 [==============================] - 0s 214us/sample - loss: 0.0424 - acc: 1.0000\n",
            "Epoch 50/100\n",
            "82/82 [==============================] - 0s 179us/sample - loss: 0.0777 - acc: 0.9634\n",
            "Epoch 51/100\n",
            "82/82 [==============================] - 0s 190us/sample - loss: 0.0758 - acc: 0.9756\n",
            "Epoch 52/100\n",
            "82/82 [==============================] - 0s 174us/sample - loss: 0.0540 - acc: 0.9878\n",
            "Epoch 53/100\n",
            "82/82 [==============================] - 0s 198us/sample - loss: 0.0380 - acc: 0.9878\n",
            "Epoch 54/100\n",
            "82/82 [==============================] - 0s 219us/sample - loss: 0.0192 - acc: 1.0000\n",
            "Epoch 55/100\n",
            "82/82 [==============================] - 0s 185us/sample - loss: 0.0460 - acc: 0.9878\n",
            "Epoch 56/100\n",
            "82/82 [==============================] - 0s 197us/sample - loss: 0.0613 - acc: 0.9756\n",
            "Epoch 57/100\n",
            "82/82 [==============================] - 0s 186us/sample - loss: 0.0657 - acc: 0.9756\n",
            "Epoch 58/100\n",
            "82/82 [==============================] - 0s 207us/sample - loss: 0.0100 - acc: 1.0000\n",
            "Epoch 59/100\n",
            "82/82 [==============================] - 0s 178us/sample - loss: 0.0178 - acc: 1.0000\n",
            "Epoch 60/100\n",
            "82/82 [==============================] - 0s 191us/sample - loss: 0.0403 - acc: 1.0000\n",
            "Epoch 61/100\n",
            "82/82 [==============================] - 0s 289us/sample - loss: 0.0331 - acc: 0.9878\n",
            "Epoch 62/100\n",
            "82/82 [==============================] - 0s 186us/sample - loss: 0.0286 - acc: 0.9878\n",
            "Epoch 63/100\n",
            "82/82 [==============================] - 0s 193us/sample - loss: 0.0931 - acc: 0.9512\n",
            "Epoch 64/100\n",
            "82/82 [==============================] - 0s 245us/sample - loss: 0.0197 - acc: 0.9878\n",
            "Epoch 65/100\n",
            "82/82 [==============================] - 0s 183us/sample - loss: 0.0035 - acc: 1.0000\n",
            "Epoch 66/100\n",
            "82/82 [==============================] - 0s 218us/sample - loss: 0.0787 - acc: 0.9634\n",
            "Epoch 67/100\n",
            "82/82 [==============================] - 0s 197us/sample - loss: 0.0453 - acc: 0.9634\n",
            "Epoch 68/100\n",
            "82/82 [==============================] - 0s 199us/sample - loss: 0.0173 - acc: 0.9878\n",
            "Epoch 69/100\n",
            "82/82 [==============================] - 0s 213us/sample - loss: 0.0736 - acc: 0.9756\n",
            "Epoch 70/100\n",
            "82/82 [==============================] - 0s 198us/sample - loss: 0.0617 - acc: 0.9878\n",
            "Epoch 71/100\n",
            "82/82 [==============================] - 0s 180us/sample - loss: 0.0150 - acc: 1.0000\n",
            "Epoch 72/100\n",
            "82/82 [==============================] - 0s 178us/sample - loss: 0.0638 - acc: 0.9756\n",
            "Epoch 73/100\n",
            "82/82 [==============================] - 0s 193us/sample - loss: 0.0711 - acc: 0.9756\n",
            "Epoch 74/100\n",
            "82/82 [==============================] - 0s 193us/sample - loss: 0.0115 - acc: 1.0000\n",
            "Epoch 75/100\n",
            "82/82 [==============================] - 0s 211us/sample - loss: 0.0225 - acc: 1.0000\n",
            "Epoch 76/100\n",
            "82/82 [==============================] - 0s 172us/sample - loss: 0.0153 - acc: 1.0000\n",
            "Epoch 77/100\n",
            "82/82 [==============================] - 0s 194us/sample - loss: 0.0137 - acc: 1.0000\n",
            "Epoch 78/100\n",
            "82/82 [==============================] - 0s 234us/sample - loss: 0.0149 - acc: 1.0000\n",
            "Epoch 79/100\n",
            "82/82 [==============================] - 0s 202us/sample - loss: 0.0068 - acc: 1.0000\n",
            "Epoch 80/100\n",
            "82/82 [==============================] - 0s 215us/sample - loss: 0.0069 - acc: 1.0000\n",
            "Epoch 81/100\n",
            "82/82 [==============================] - 0s 213us/sample - loss: 0.0207 - acc: 0.9878\n",
            "Epoch 82/100\n",
            "82/82 [==============================] - 0s 196us/sample - loss: 0.0066 - acc: 1.0000\n",
            "Epoch 83/100\n",
            "82/82 [==============================] - 0s 198us/sample - loss: 0.0153 - acc: 1.0000\n",
            "Epoch 84/100\n",
            "82/82 [==============================] - 0s 232us/sample - loss: 0.0035 - acc: 1.0000\n",
            "Epoch 85/100\n",
            "82/82 [==============================] - 0s 215us/sample - loss: 0.0187 - acc: 0.9878\n",
            "Epoch 86/100\n",
            "82/82 [==============================] - 0s 196us/sample - loss: 0.0131 - acc: 0.9878\n",
            "Epoch 87/100\n",
            "82/82 [==============================] - 0s 178us/sample - loss: 0.0197 - acc: 1.0000\n",
            "Epoch 88/100\n",
            "82/82 [==============================] - 0s 222us/sample - loss: 7.4330e-04 - acc: 1.0000\n",
            "Epoch 89/100\n",
            "82/82 [==============================] - 0s 222us/sample - loss: 0.0582 - acc: 0.9756\n",
            "Epoch 90/100\n",
            "82/82 [==============================] - 0s 207us/sample - loss: 0.0032 - acc: 1.0000\n",
            "Epoch 91/100\n",
            "82/82 [==============================] - 0s 174us/sample - loss: 0.0205 - acc: 0.9878\n",
            "Epoch 92/100\n",
            "82/82 [==============================] - 0s 207us/sample - loss: 0.0086 - acc: 1.0000\n",
            "Epoch 93/100\n",
            "82/82 [==============================] - 0s 184us/sample - loss: 0.0337 - acc: 0.9756\n",
            "Epoch 94/100\n",
            "82/82 [==============================] - 0s 176us/sample - loss: 0.0030 - acc: 1.0000\n",
            "Epoch 95/100\n",
            "82/82 [==============================] - 0s 191us/sample - loss: 0.0106 - acc: 1.0000\n",
            "Epoch 96/100\n",
            "82/82 [==============================] - 0s 195us/sample - loss: 0.0230 - acc: 0.9878\n",
            "Epoch 97/100\n",
            "82/82 [==============================] - 0s 199us/sample - loss: 0.0032 - acc: 1.0000\n",
            "Epoch 98/100\n",
            "82/82 [==============================] - 0s 235us/sample - loss: 0.0291 - acc: 0.9878\n",
            "Epoch 99/100\n",
            "82/82 [==============================] - 0s 191us/sample - loss: 0.0726 - acc: 0.9756\n",
            "Epoch 100/100\n",
            "82/82 [==============================] - 0s 193us/sample - loss: 0.0238 - acc: 0.9756\n"
          ],
          "name": "stdout"
        },
        {
          "output_type": "execute_result",
          "data": {
            "text/plain": [
              "<tensorflow.python.keras.callbacks.History at 0x7ff6258e1e48>"
            ]
          },
          "metadata": {
            "tags": []
          },
          "execution_count": 12
        }
      ]
    },
    {
      "cell_type": "code",
      "metadata": {
        "id": "zUMMpNAozSVT",
        "colab_type": "code",
        "outputId": "9def5939-ae19-403a-8679-ab78ca8be80e",
        "colab": {
          "base_uri": "https://localhost:8080/",
          "height": 36
        }
      },
      "source": [
        "final_loss, final_acc = model.evaluate(test_data, test_labels, verbose=0)\n",
        "print(\"Final loss: {0:.4f}, final accuracy: {1:.4f}\".format(final_loss, final_acc))"
      ],
      "execution_count": 0,
      "outputs": [
        {
          "output_type": "stream",
          "text": [
            "Final loss: 6.2793, final accuracy: 0.6400\n"
          ],
          "name": "stdout"
        }
      ]
    },
    {
      "cell_type": "code",
      "metadata": {
        "id": "zROgRekfPrAn",
        "colab_type": "code",
        "colab": {}
      },
      "source": [
        "#To save model weights in h5 format\n",
        "#model.save(\"hand_gestures_model.h5\")\n",
        "#from google.colab import files\n",
        "#files.download(\"hand_gestures_model.h5\")"
      ],
      "execution_count": 0,
      "outputs": []
    },
    {
      "cell_type": "code",
      "metadata": {
        "id": "v3naSw1Q-UKj",
        "colab_type": "code",
        "colab": {}
      },
      "source": [
        ""
      ],
      "execution_count": 0,
      "outputs": []
    },
    {
      "cell_type": "code",
      "metadata": {
        "id": "SXnRLZ1Q2y1s",
        "colab_type": "code",
        "colab": {}
      },
      "source": [
        ""
      ],
      "execution_count": 0,
      "outputs": []
    },
    {
      "cell_type": "code",
      "metadata": {
        "id": "DhJS28Ex3ASu",
        "colab_type": "code",
        "outputId": "ef5c02f2-b1dc-41e4-f470-9b2b29c5096c",
        "colab": {
          "base_uri": "https://localhost:8080/",
          "height": 1000
        }
      },
      "source": [
        "sample_indexes = random.sample(range(len(test_data)), 10)\n",
        "sample_images = [test_data[i] for i in sample_indexes]\n",
        "sample_labels = [test_labels[i] for i in sample_indexes]\n",
        "\n",
        "# Run the \"predicted_labels\" op.\n",
        "predicted = model.predict(test_data)\n",
        "                        \n",
        "# Print the real and predicted labels\n",
        "print(test_labels)\n",
        "print(predicted)"
      ],
      "execution_count": 0,
      "outputs": [
        {
          "output_type": "stream",
          "text": [
            "[[0. 1. 0. 0. 0.]\n",
            " [0. 1. 0. 0. 0.]\n",
            " [0. 1. 0. 0. 0.]\n",
            " [0. 1. 0. 0. 0.]\n",
            " [0. 1. 0. 0. 0.]\n",
            " [1. 0. 0. 0. 0.]\n",
            " [1. 0. 0. 0. 0.]\n",
            " [1. 0. 0. 0. 0.]\n",
            " [1. 0. 0. 0. 0.]\n",
            " [1. 0. 0. 0. 0.]\n",
            " [0. 0. 1. 0. 0.]\n",
            " [0. 0. 1. 0. 0.]\n",
            " [0. 0. 1. 0. 0.]\n",
            " [0. 0. 1. 0. 0.]\n",
            " [0. 0. 1. 0. 0.]\n",
            " [0. 0. 0. 0. 1.]\n",
            " [0. 0. 0. 0. 1.]\n",
            " [0. 0. 0. 0. 1.]\n",
            " [0. 0. 0. 0. 1.]\n",
            " [0. 0. 0. 0. 1.]\n",
            " [0. 0. 0. 1. 0.]\n",
            " [0. 0. 0. 1. 0.]\n",
            " [0. 0. 0. 1. 0.]\n",
            " [0. 0. 0. 1. 0.]\n",
            " [0. 0. 0. 1. 0.]]\n",
            "[[6.74839169e-02 7.06626058e-01 4.24295308e-07 2.25888953e-01\n",
            "  6.59451644e-07]\n",
            " [9.99999881e-01 1.35611007e-08 1.84921946e-14 2.96532754e-09\n",
            "  8.17815646e-08]\n",
            " [9.99999285e-01 6.90701484e-07 1.16743358e-14 6.26787229e-15\n",
            "  5.13735321e-09]\n",
            " [1.00000000e+00 6.40489484e-09 4.97815590e-17 6.67530972e-13\n",
            "  7.58281701e-11]\n",
            " [9.99974608e-01 2.46268319e-05 2.48876852e-12 1.67825824e-08\n",
            "  6.70679071e-07]\n",
            " [9.99978185e-01 2.18486421e-05 3.40517951e-14 6.85562125e-15\n",
            "  1.97197103e-09]\n",
            " [8.83534074e-01 3.41945998e-02 2.03874336e-07 6.78330213e-02\n",
            "  1.44380974e-02]\n",
            " [9.88234162e-01 1.17592877e-02 6.05047193e-11 5.07310682e-09\n",
            "  6.58771523e-06]\n",
            " [9.19692576e-01 8.03074464e-02 1.86485040e-17 2.67414273e-15\n",
            "  4.66234740e-09]\n",
            " [9.86474574e-01 1.33843273e-02 2.44087550e-09 1.81428204e-05\n",
            "  1.22965939e-04]\n",
            " [9.99644399e-01 2.91595963e-04 9.82868755e-07 7.55613382e-06\n",
            "  5.53874816e-05]\n",
            " [9.99999642e-01 4.71145212e-09 5.02365554e-12 9.09520921e-08\n",
            "  2.78217556e-07]\n",
            " [7.83834100e-01 2.06355457e-04 4.39280893e-06 2.14838132e-01\n",
            "  1.11705391e-03]\n",
            " [1.00000000e+00 3.08624237e-09 6.82347042e-15 3.69482951e-11\n",
            "  2.63894673e-13]\n",
            " [4.15626794e-01 6.41916394e-02 5.51972444e-05 1.62420273e-01\n",
            "  3.57706130e-01]\n",
            " [5.76039951e-04 1.84561543e-06 6.51981907e-07 4.02372780e-06\n",
            "  9.99417424e-01]\n",
            " [4.54702649e-06 2.45810065e-06 4.68249018e-05 3.12938332e-03\n",
            "  9.96816814e-01]\n",
            " [1.35412338e-05 1.40686425e-05 2.12785181e-07 1.73661329e-06\n",
            "  9.99970436e-01]\n",
            " [3.98427110e-05 6.06164940e-06 9.77460368e-05 2.13468983e-03\n",
            "  9.97721612e-01]\n",
            " [1.15402172e-05 1.07231165e-06 1.36129302e-07 4.59752082e-05\n",
            "  9.99941230e-01]\n",
            " [5.05923247e-03 3.60910207e-07 4.72717687e-08 9.94695485e-01\n",
            "  2.44994968e-04]\n",
            " [2.91318563e-03 3.84050691e-06 1.44004371e-05 9.97047603e-01\n",
            "  2.10731305e-05]\n",
            " [2.92922113e-08 3.22236765e-10 2.47593971e-06 9.99997377e-01\n",
            "  6.36915019e-08]\n",
            " [6.80633639e-06 6.49087160e-05 6.21030340e-04 9.99290586e-01\n",
            "  1.66511272e-05]\n",
            " [1.59670810e-06 1.34728921e-08 5.76453544e-07 9.99995351e-01\n",
            "  2.34943172e-06]]\n"
          ],
          "name": "stdout"
        }
      ]
    },
    {
      "cell_type": "code",
      "metadata": {
        "colab_type": "code",
        "outputId": "9561858c-ac1b-4714-cfb8-9c007540c2cf",
        "id": "CAhxUQ5m2Iao",
        "colab": {
          "base_uri": "https://localhost:8080/",
          "height": 36
        }
      },
      "source": [
        "count=0\n",
        "for i in range(len(predicted)):\n",
        "  if np.where(predicted[i]==max(predicted[i]))==np.where(test_labels[i]==max(test_labels[i])):\n",
        "    count+=1\n",
        "count,len(predicted)"
      ],
      "execution_count": 0,
      "outputs": [
        {
          "output_type": "execute_result",
          "data": {
            "text/plain": [
              "(16, 25)"
            ]
          },
          "metadata": {
            "tags": []
          },
          "execution_count": 15
        }
      ]
    },
    {
      "cell_type": "code",
      "metadata": {
        "id": "Rv_pbQsgCDBM",
        "colab_type": "code",
        "outputId": "062b20b2-514a-4457-a9f2-ec8a67dcb116",
        "colab": {
          "base_uri": "https://localhost:8080/",
          "height": 36
        }
      },
      "source": [
        "np.where(predicted[i]==max(predicted[i]))"
      ],
      "execution_count": 0,
      "outputs": [
        {
          "output_type": "execute_result",
          "data": {
            "text/plain": [
              "(array([3]),)"
            ]
          },
          "metadata": {
            "tags": []
          },
          "execution_count": 16
        }
      ]
    },
    {
      "cell_type": "code",
      "metadata": {
        "id": "BGM_Y3azyXn8",
        "colab_type": "code",
        "outputId": "9b59ba45-b2ce-4c60-9da2-3d146ade3668",
        "colab": {
          "base_uri": "https://localhost:8080/",
          "height": 316
        }
      },
      "source": [
        "# Display the predictions and the ground truth visually.\n",
        "fig = plt.figure(figsize=(15, 15))\n",
        "for i in range(len(test_data)):\n",
        "    truth = test_labels[i]\n",
        "    prediction = predicted[i]\n",
        "    plt.subplot(13, 5,1+i)\n",
        "    plt.axis('off')\n",
        "    color='green' if truth == prediction else 'red'\n",
        "    plt.text(40, 10, \"Truth:        {0}\\nPrediction: {1}\".format(chr(truth), chr(prediction)), \n",
        "             fontsize=12, color=color)\n",
        "    plt.imshow(test_data[i],cmap='gray')\n",
        "\n",
        "plt.show()"
      ],
      "execution_count": 0,
      "outputs": [
        {
          "output_type": "error",
          "ename": "ValueError",
          "evalue": "ignored",
          "traceback": [
            "\u001b[0;31m---------------------------------------------------------------------------\u001b[0m",
            "\u001b[0;31mValueError\u001b[0m                                Traceback (most recent call last)",
            "\u001b[0;32m<ipython-input-17-cd128ad22923>\u001b[0m in \u001b[0;36m<module>\u001b[0;34m()\u001b[0m\n\u001b[1;32m      5\u001b[0m     \u001b[0mplt\u001b[0m\u001b[0;34m.\u001b[0m\u001b[0msubplot\u001b[0m\u001b[0;34m(\u001b[0m\u001b[0;36m13\u001b[0m\u001b[0;34m,\u001b[0m \u001b[0;36m5\u001b[0m\u001b[0;34m,\u001b[0m\u001b[0;36m1\u001b[0m\u001b[0;34m+\u001b[0m\u001b[0mi\u001b[0m\u001b[0;34m)\u001b[0m\u001b[0;34m\u001b[0m\u001b[0;34m\u001b[0m\u001b[0m\n\u001b[1;32m      6\u001b[0m     \u001b[0mplt\u001b[0m\u001b[0;34m.\u001b[0m\u001b[0maxis\u001b[0m\u001b[0;34m(\u001b[0m\u001b[0;34m'off'\u001b[0m\u001b[0;34m)\u001b[0m\u001b[0;34m\u001b[0m\u001b[0;34m\u001b[0m\u001b[0m\n\u001b[0;32m----> 7\u001b[0;31m     \u001b[0mcolor\u001b[0m\u001b[0;34m=\u001b[0m\u001b[0;34m'green'\u001b[0m \u001b[0;32mif\u001b[0m \u001b[0mtruth\u001b[0m \u001b[0;34m==\u001b[0m \u001b[0mprediction\u001b[0m \u001b[0;32melse\u001b[0m \u001b[0;34m'red'\u001b[0m\u001b[0;34m\u001b[0m\u001b[0;34m\u001b[0m\u001b[0m\n\u001b[0m\u001b[1;32m      8\u001b[0m     plt.text(40, 10, \"Truth:        {0}\\nPrediction: {1}\".format(chr(truth), chr(prediction)), \n\u001b[1;32m      9\u001b[0m              fontsize=12, color=color)\n",
            "\u001b[0;31mValueError\u001b[0m: The truth value of an array with more than one element is ambiguous. Use a.any() or a.all()"
          ]
        },
        {
          "output_type": "display_data",
          "data": {
            "image/png": "[encoded data removed]",
            "text/plain": [
              "<Figure size 1080x1080 with 1 Axes>"
            ]
          },
          "metadata": {
            "tags": []
          }
        }
      ]
    },
    {
      "cell_type": "code",
      "metadata": {
        "id": "Mfj1BHz5-y8X",
        "colab_type": "code",
        "colab": {}
      },
      "source": [
        "sess.close()"
      ],
      "execution_count": 0,
      "outputs": []
    }
  ]
}