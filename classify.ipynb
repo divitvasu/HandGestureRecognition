{
  "nbformat": 4,
  "nbformat_minor": 0,
  "metadata": {
    "colab": {
      "name": "classify.ipynb",
      "provenance": [],
      "collapsed_sections": []
    },
    "kernelspec": {
      "name": "python3",
      "display_name": "Python 3"
    },
    "accelerator": "GPU"
  },
  "cells": [
    {
      "cell_type": "code",
      "metadata": {
        "id": "rqB1cD6obJoV",
        "colab_type": "code",
        "outputId": "c3a2800e-ea90-45c4-f008-e5d30d3ce720",
        "colab": {
          "base_uri": "https://localhost:8080/",
          "height": 36
        }
      },
      "source": [
        "! git clone https://github.com/jainkrunal/HandGestureRecognition\n"
      ],
      "execution_count": 0,
      "outputs": [
        {
          "output_type": "stream",
          "text": [
            "fatal: destination path 'HandGestureRecognition' already exists and is not an empty directory.\n"
          ],
          "name": "stdout"
        }
      ]
    },
    {
      "cell_type": "code",
      "metadata": {
        "id": "H7dPwJVLbQeS",
        "colab_type": "code",
        "colab": {}
      },
      "source": [
        "\n",
        "import matplotlib.pyplot as plt\n",
        "import os\n",
        "import numpy as np\n",
        "from skimage.color import rgb2gray\n",
        "from PIL import Image\n",
        "\n",
        "import random\n",
        "import tensorflow as tf\n",
        "from keras.utils.np_utils import to_categorical # convert to one-hot-encoding\n",
        "from tensorflow.keras.models import Sequential\n",
        "from tensorflow.keras.layers import Convolution2D\n",
        "from tensorflow.keras.layers import MaxPooling2D\n",
        "from tensorflow.keras.layers import Flatten\n",
        "from tensorflow.keras.layers import Dense\n",
        "from tensorflow.keras.layers import Dropout\n",
        "from tensorflow.keras.optimizers import Adam\n"
      ],
      "execution_count": 0,
      "outputs": []
    },
    {
      "cell_type": "code",
      "metadata": {
        "id": "FvtFNdNQr2gd",
        "colab_type": "code",
        "colab": {}
      },
      "source": [
        "labels_dict={\"1\":\"one\",\"2\":\"two\",\"3\":\"three\",\"4\":\"four\",\"5\":\"five\"}\n",
        "def load_data(data_directory):\n",
        "    directories = [d for d in os.listdir(data_directory) \n",
        "                   if os.path.isdir(os.path.join(data_directory, d))]\n",
        "    labels = []\n",
        "    images = []\n",
        "    for d in directories:\n",
        "        label_directory = os.path.join(data_directory, d)\n",
        "        file_names = [os.path.join(label_directory, f) for f in os.listdir(label_directory)]\n",
        "        for f in file_names:\n",
        "            images.append(Image.open(f))\n",
        "\n",
        "            labels.append(int(d)-1)\n",
        "    return images, labels\n",
        "  \n",
        "#start = timer()\n",
        "\n",
        "ROOT_PATH=\"HandGestureRecognition/Data\"\n",
        "train_data_directory=os.path.join(ROOT_PATH, \"train\")\n",
        "test_data_directory=os.path.join(ROOT_PATH, \"test\")\n",
        "\n",
        "train_data, train_labels=load_data(train_data_directory)\n",
        "test_data, test_labels=load_data(test_data_directory)\n",
        "#timer() - start"
      ],
      "execution_count": 0,
      "outputs": []
    },
    {
      "cell_type": "code",
      "metadata": {
        "id": "VgOiEAq2bKsF",
        "colab_type": "code",
        "colab": {}
      },
      "source": [
        "#  Resize\n",
        "def image_resize(images):\n",
        "  images32 = [np.asarray(image.resize((28,28))) for image in images]\n",
        "  images32 = np.array(images32)\n",
        "  return images32\n",
        "#start = timer()\n",
        "train_data = image_resize(train_data)\n",
        "test_data = image_resize(test_data)\n",
        "#timer() - start\n",
        "\n",
        "train_data, test_data = train_data / 255.0, test_data / 255.0"
      ],
      "execution_count": 0,
      "outputs": []
    },
    {
      "cell_type": "code",
      "metadata": {
        "id": "OHzAYKuFed1J",
        "colab_type": "code",
        "outputId": "169e3e14-f8ea-430d-b048-585b21578638",
        "colab": {
          "base_uri": "https://localhost:8080/",
          "height": 36
        }
      },
      "source": [
        "test_labels\n"
      ],
      "execution_count": 0,
      "outputs": [
        {
          "output_type": "execute_result",
          "data": {
            "text/plain": [
              "[3, 3, 3, 3, 3, 0, 0, 0, 0, 0, 2, 2, 2, 2, 2, 1, 1, 1, 1, 1, 4, 4, 4, 4, 4]"
            ]
          },
          "metadata": {
            "tags": []
          },
          "execution_count": 53
        }
      ]
    },
    {
      "cell_type": "code",
      "metadata": {
        "id": "0ANOAiubbHFT",
        "colab_type": "code",
        "colab": {}
      },
      "source": [
        "\n",
        "train_labels = to_categorical(train_labels, num_classes = 5)\n",
        "\n",
        "test_labels = to_categorical(test_labels, num_classes = 5)"
      ],
      "execution_count": 0,
      "outputs": []
    },
    {
      "cell_type": "code",
      "metadata": {
        "id": "Nde7-sDTboIF",
        "colab_type": "code",
        "outputId": "d9961a31-1c98-41ee-f97a-1617fc5f5b42",
        "colab": {
          "base_uri": "https://localhost:8080/",
          "height": 284
        }
      },
      "source": [
        "#train_data = rgb2gray(np.array(train_data))\n",
        "#test_data = rgb2gray(np.array(test_data))\n",
        "plt.imshow(train_data[0])\n",
        "\n"
      ],
      "execution_count": 0,
      "outputs": [
        {
          "output_type": "execute_result",
          "data": {
            "text/plain": [
              "<matplotlib.image.AxesImage at 0x7f3c513081d0>"
            ]
          },
          "metadata": {
            "tags": []
          },
          "execution_count": 55
        },
        {
          "output_type": "display_data",
          "data": {
            "image/png": "[encoded data removed]",
            "text/plain": [
              "<Figure size 432x288 with 1 Axes>"
            ]
          },
          "metadata": {
            "tags": []
          }
        }
      ]
    },
    {
      "cell_type": "code",
      "metadata": {
        "id": "u4X92tsBk4eP",
        "colab_type": "code",
        "outputId": "2c2623af-079a-4eaa-a351-5d970e772618",
        "colab": {
          "base_uri": "https://localhost:8080/",
          "height": 36
        }
      },
      "source": [
        "train_data.shape\n"
      ],
      "execution_count": 0,
      "outputs": [
        {
          "output_type": "execute_result",
          "data": {
            "text/plain": [
              "(82, 28, 28, 3)"
            ]
          },
          "metadata": {
            "tags": []
          },
          "execution_count": 56
        }
      ]
    },
    {
      "cell_type": "code",
      "metadata": {
        "id": "Qv8pSMg3fsWU",
        "colab_type": "code",
        "colab": {}
      },
      "source": [
        "\"\"\"model=Sequential()\n",
        "model.add(Convolution2D(32, (3, 3), strides=(2, 2), activation='relu', input_shape=(300,300,3))) \n",
        "model.add(MaxPooling2D((2, 2)))\n",
        "model.add(Convolution2D(64, (3, 3), activation='relu')) \n",
        "model.add(MaxPooling2D((2, 2)))\n",
        "model.add(Convolution2D(64, (3, 3), activation='relu'))\n",
        "model.add(MaxPooling2D((2, 2)))\n",
        "model.add(Flatten())\n",
        "model.add(Dense(128, activation='relu'))\n",
        "model.add(Dense(5, activation='softmax'))\n",
        "\"\"\"\n",
        "\n",
        "model = Sequential()\n",
        "\n",
        "\n",
        "\n",
        "model.add(Convolution2D(filters = 32, kernel_size = (5,5),padding = 'Same', activation ='relu', input_shape = (28,28,3)))\n",
        "model.add(Convolution2D(filters = 32, kernel_size = (5,5),padding = 'Same', activation ='relu'))\n",
        "model.add(MaxPooling2D(pool_size=(2,2)))\n",
        "model.add(Dropout(0.25))\n",
        "\n",
        "model.add(Convolution2D(filters = 64, kernel_size = (3,3),padding = 'Same', activation ='relu'))\n",
        "model.add(Convolution2D(filters = 64, kernel_size = (3,3),padding = 'Same', activation ='relu'))\n",
        "model.add(MaxPooling2D(pool_size=(2,2), strides=(2,2)))\n",
        "model.add(Dropout(0.25))\n",
        "\n",
        "model.add(Flatten())\n",
        "model.add(Dense(256, activation = \"relu\"))\n",
        "model.add(Dropout(0.5))\n",
        "model.add(Dense(5, activation = \"softmax\"))"
      ],
      "execution_count": 0,
      "outputs": []
    },
    {
      "cell_type": "code",
      "metadata": {
        "id": "66H2Zz8ng3Je",
        "colab_type": "code",
        "colab": {}
      },
      "source": [
        "model.compile(optimizer='adam',\n",
        "              loss='categorical_crossentropy',\n",
        "              metrics=['accuracy'])"
      ],
      "execution_count": 0,
      "outputs": []
    },
    {
      "cell_type": "code",
      "metadata": {
        "id": "5lmUYHSyY-Hu",
        "colab_type": "code",
        "colab": {}
      },
      "source": [
        "#model.get_config()"
      ],
      "execution_count": 0,
      "outputs": []
    },
    {
      "cell_type": "code",
      "metadata": {
        "id": "PipZhkZ1hPwp",
        "colab_type": "code",
        "outputId": "1b657fe4-1087-492b-b95e-1d68de266970",
        "colab": {
          "base_uri": "https://localhost:8080/",
          "height": 1000
        }
      },
      "source": [
        "model.fit(train_data, train_labels, epochs=100)\n"
      ],
      "execution_count": 0,
      "outputs": [
        {
          "output_type": "stream",
          "text": [
            "Train on 82 samples\n",
            "Epoch 1/100\n",
            "82/82 [==============================] - 0s 2ms/sample - loss: 1.6374 - acc: 0.1951\n",
            "Epoch 2/100\n",
            "82/82 [==============================] - 0s 262us/sample - loss: 1.5288 - acc: 0.2439\n",
            "Epoch 3/100\n",
            "82/82 [==============================] - 0s 257us/sample - loss: 1.4938 - acc: 0.1341\n",
            "Epoch 4/100\n",
            "82/82 [==============================] - 0s 231us/sample - loss: 1.4410 - acc: 0.3049\n",
            "Epoch 5/100\n",
            "82/82 [==============================] - 0s 235us/sample - loss: 1.4819 - acc: 0.2805\n",
            "Epoch 6/100\n",
            "82/82 [==============================] - 0s 225us/sample - loss: 1.4617 - acc: 0.2317\n",
            "Epoch 7/100\n",
            "82/82 [==============================] - 0s 243us/sample - loss: 1.4370 - acc: 0.3415\n",
            "Epoch 8/100\n",
            "82/82 [==============================] - 0s 228us/sample - loss: 1.4348 - acc: 0.3049\n",
            "Epoch 9/100\n",
            "82/82 [==============================] - 0s 241us/sample - loss: 1.3915 - acc: 0.3537\n",
            "Epoch 10/100\n",
            "82/82 [==============================] - 0s 324us/sample - loss: 1.3512 - acc: 0.3049\n",
            "Epoch 11/100\n",
            "82/82 [==============================] - 0s 311us/sample - loss: 1.3509 - acc: 0.3415\n",
            "Epoch 12/100\n",
            "82/82 [==============================] - 0s 312us/sample - loss: 1.2963 - acc: 0.3780\n",
            "Epoch 13/100\n",
            "82/82 [==============================] - 0s 296us/sample - loss: 1.2922 - acc: 0.4146\n",
            "Epoch 14/100\n",
            "82/82 [==============================] - 0s 317us/sample - loss: 1.1403 - acc: 0.5366\n",
            "Epoch 15/100\n",
            "82/82 [==============================] - 0s 301us/sample - loss: 1.0422 - acc: 0.5976\n",
            "Epoch 16/100\n",
            "82/82 [==============================] - 0s 306us/sample - loss: 0.9800 - acc: 0.5244\n",
            "Epoch 17/100\n",
            "82/82 [==============================] - 0s 320us/sample - loss: 0.8703 - acc: 0.7073\n",
            "Epoch 18/100\n",
            "82/82 [==============================] - 0s 297us/sample - loss: 0.6917 - acc: 0.7195\n",
            "Epoch 19/100\n",
            "82/82 [==============================] - 0s 336us/sample - loss: 0.5688 - acc: 0.7683\n",
            "Epoch 20/100\n",
            "82/82 [==============================] - 0s 339us/sample - loss: 0.5610 - acc: 0.7439\n",
            "Epoch 21/100\n",
            "82/82 [==============================] - 0s 267us/sample - loss: 0.4906 - acc: 0.8049\n",
            "Epoch 22/100\n",
            "82/82 [==============================] - 0s 290us/sample - loss: 0.4322 - acc: 0.8415\n",
            "Epoch 23/100\n",
            "82/82 [==============================] - 0s 324us/sample - loss: 0.3522 - acc: 0.8415\n",
            "Epoch 24/100\n",
            "82/82 [==============================] - 0s 275us/sample - loss: 0.3393 - acc: 0.8415\n",
            "Epoch 25/100\n",
            "82/82 [==============================] - 0s 329us/sample - loss: 0.2991 - acc: 0.9146\n",
            "Epoch 26/100\n",
            "82/82 [==============================] - 0s 311us/sample - loss: 0.2477 - acc: 0.9146\n",
            "Epoch 27/100\n",
            "82/82 [==============================] - 0s 298us/sample - loss: 0.2272 - acc: 0.9024\n",
            "Epoch 28/100\n",
            "82/82 [==============================] - 0s 293us/sample - loss: 0.1500 - acc: 0.9512\n",
            "Epoch 29/100\n",
            "82/82 [==============================] - 0s 290us/sample - loss: 0.1948 - acc: 0.9512\n",
            "Epoch 30/100\n",
            "82/82 [==============================] - 0s 246us/sample - loss: 0.1808 - acc: 0.9146\n",
            "Epoch 31/100\n",
            "82/82 [==============================] - 0s 251us/sample - loss: 0.1867 - acc: 0.8780\n",
            "Epoch 32/100\n",
            "82/82 [==============================] - 0s 314us/sample - loss: 0.2066 - acc: 0.9268\n",
            "Epoch 33/100\n",
            "82/82 [==============================] - 0s 274us/sample - loss: 0.1051 - acc: 0.9512\n",
            "Epoch 34/100\n",
            "82/82 [==============================] - 0s 382us/sample - loss: 0.0966 - acc: 0.9756\n",
            "Epoch 35/100\n",
            "82/82 [==============================] - 0s 260us/sample - loss: 0.1068 - acc: 0.9634\n",
            "Epoch 36/100\n",
            "82/82 [==============================] - 0s 285us/sample - loss: 0.0886 - acc: 0.9634\n",
            "Epoch 37/100\n",
            "82/82 [==============================] - 0s 284us/sample - loss: 0.0718 - acc: 0.9756\n",
            "Epoch 38/100\n",
            "82/82 [==============================] - 0s 267us/sample - loss: 0.1459 - acc: 0.9390\n",
            "Epoch 39/100\n",
            "82/82 [==============================] - 0s 332us/sample - loss: 0.1269 - acc: 0.9512\n",
            "Epoch 40/100\n",
            "82/82 [==============================] - 0s 331us/sample - loss: 0.1046 - acc: 0.9512\n",
            "Epoch 41/100\n",
            "82/82 [==============================] - 0s 268us/sample - loss: 0.0953 - acc: 0.9634\n",
            "Epoch 42/100\n",
            "82/82 [==============================] - 0s 260us/sample - loss: 0.1555 - acc: 0.9390\n",
            "Epoch 43/100\n",
            "82/82 [==============================] - 0s 304us/sample - loss: 0.0933 - acc: 0.9756\n",
            "Epoch 44/100\n",
            "82/82 [==============================] - 0s 315us/sample - loss: 0.0662 - acc: 0.9878\n",
            "Epoch 45/100\n",
            "82/82 [==============================] - 0s 344us/sample - loss: 0.0810 - acc: 0.9756\n",
            "Epoch 46/100\n",
            "82/82 [==============================] - 0s 338us/sample - loss: 0.0303 - acc: 1.0000\n",
            "Epoch 47/100\n",
            "82/82 [==============================] - 0s 328us/sample - loss: 0.0456 - acc: 0.9878\n",
            "Epoch 48/100\n",
            "82/82 [==============================] - 0s 299us/sample - loss: 0.0363 - acc: 0.9878\n",
            "Epoch 49/100\n",
            "82/82 [==============================] - 0s 282us/sample - loss: 0.0273 - acc: 0.9878\n",
            "Epoch 50/100\n",
            "82/82 [==============================] - 0s 266us/sample - loss: 0.0205 - acc: 0.9878\n",
            "Epoch 51/100\n",
            "82/82 [==============================] - 0s 379us/sample - loss: 0.0524 - acc: 0.9634\n",
            "Epoch 52/100\n",
            "82/82 [==============================] - 0s 330us/sample - loss: 0.0102 - acc: 1.0000\n",
            "Epoch 53/100\n",
            "82/82 [==============================] - 0s 287us/sample - loss: 0.0550 - acc: 0.9756\n",
            "Epoch 54/100\n",
            "82/82 [==============================] - 0s 251us/sample - loss: 0.0328 - acc: 0.9878\n",
            "Epoch 55/100\n",
            "82/82 [==============================] - 0s 241us/sample - loss: 0.0285 - acc: 1.0000\n",
            "Epoch 56/100\n",
            "82/82 [==============================] - 0s 250us/sample - loss: 0.0772 - acc: 0.9756\n",
            "Epoch 57/100\n",
            "82/82 [==============================] - 0s 296us/sample - loss: 0.1013 - acc: 0.9634\n",
            "Epoch 58/100\n",
            "82/82 [==============================] - 0s 282us/sample - loss: 0.0107 - acc: 1.0000\n",
            "Epoch 59/100\n",
            "82/82 [==============================] - 0s 292us/sample - loss: 0.0123 - acc: 1.0000\n",
            "Epoch 60/100\n",
            "82/82 [==============================] - 0s 284us/sample - loss: 0.0169 - acc: 1.0000\n",
            "Epoch 61/100\n",
            "82/82 [==============================] - 0s 295us/sample - loss: 0.0111 - acc: 1.0000\n",
            "Epoch 62/100\n",
            "82/82 [==============================] - 0s 290us/sample - loss: 0.0135 - acc: 1.0000\n",
            "Epoch 63/100\n",
            "82/82 [==============================] - 0s 319us/sample - loss: 0.1063 - acc: 0.9512\n",
            "Epoch 64/100\n",
            "82/82 [==============================] - 0s 337us/sample - loss: 0.0503 - acc: 0.9878\n",
            "Epoch 65/100\n",
            "82/82 [==============================] - 0s 253us/sample - loss: 0.0847 - acc: 0.9878\n",
            "Epoch 66/100\n",
            "82/82 [==============================] - 0s 284us/sample - loss: 0.0660 - acc: 0.9756\n",
            "Epoch 67/100\n",
            "82/82 [==============================] - 0s 359us/sample - loss: 0.0641 - acc: 0.9878\n",
            "Epoch 68/100\n",
            "82/82 [==============================] - 0s 265us/sample - loss: 0.0207 - acc: 1.0000\n",
            "Epoch 69/100\n",
            "82/82 [==============================] - 0s 312us/sample - loss: 0.0284 - acc: 1.0000\n",
            "Epoch 70/100\n",
            "82/82 [==============================] - 0s 238us/sample - loss: 0.0055 - acc: 1.0000\n",
            "Epoch 71/100\n",
            "82/82 [==============================] - 0s 235us/sample - loss: 0.0523 - acc: 0.9634\n",
            "Epoch 72/100\n",
            "82/82 [==============================] - 0s 274us/sample - loss: 0.0261 - acc: 1.0000\n",
            "Epoch 73/100\n",
            "82/82 [==============================] - 0s 253us/sample - loss: 0.0101 - acc: 0.9878\n",
            "Epoch 74/100\n",
            "82/82 [==============================] - 0s 275us/sample - loss: 0.1898 - acc: 0.9756\n",
            "Epoch 75/100\n",
            "82/82 [==============================] - 0s 275us/sample - loss: 0.0295 - acc: 0.9756\n",
            "Epoch 76/100\n",
            "82/82 [==============================] - 0s 324us/sample - loss: 0.0139 - acc: 1.0000\n",
            "Epoch 77/100\n",
            "82/82 [==============================] - 0s 297us/sample - loss: 0.0029 - acc: 1.0000\n",
            "Epoch 78/100\n",
            "82/82 [==============================] - 0s 274us/sample - loss: 0.0036 - acc: 1.0000\n",
            "Epoch 79/100\n",
            "82/82 [==============================] - 0s 313us/sample - loss: 0.0050 - acc: 1.0000\n",
            "Epoch 80/100\n",
            "82/82 [==============================] - 0s 297us/sample - loss: 0.0224 - acc: 0.9878\n",
            "Epoch 81/100\n",
            "82/82 [==============================] - 0s 310us/sample - loss: 0.0078 - acc: 1.0000\n",
            "Epoch 82/100\n",
            "82/82 [==============================] - 0s 298us/sample - loss: 0.0060 - acc: 1.0000\n",
            "Epoch 83/100\n",
            "82/82 [==============================] - 0s 389us/sample - loss: 0.0212 - acc: 0.9878\n",
            "Epoch 84/100\n",
            "82/82 [==============================] - 0s 345us/sample - loss: 0.0054 - acc: 1.0000\n",
            "Epoch 85/100\n",
            "82/82 [==============================] - 0s 293us/sample - loss: 0.0026 - acc: 1.0000\n",
            "Epoch 86/100\n",
            "82/82 [==============================] - 0s 396us/sample - loss: 0.0164 - acc: 0.9878\n",
            "Epoch 87/100\n",
            "82/82 [==============================] - 0s 270us/sample - loss: 0.0021 - acc: 1.0000\n",
            "Epoch 88/100\n",
            "82/82 [==============================] - 0s 227us/sample - loss: 0.0203 - acc: 0.9878\n",
            "Epoch 89/100\n",
            "82/82 [==============================] - 0s 275us/sample - loss: 0.0260 - acc: 0.9878\n",
            "Epoch 90/100\n",
            "82/82 [==============================] - 0s 280us/sample - loss: 0.0229 - acc: 0.9878\n",
            "Epoch 91/100\n",
            "82/82 [==============================] - 0s 282us/sample - loss: 0.0268 - acc: 0.9878\n",
            "Epoch 92/100\n",
            "82/82 [==============================] - 0s 276us/sample - loss: 0.0623 - acc: 0.9634\n",
            "Epoch 93/100\n",
            "82/82 [==============================] - 0s 340us/sample - loss: 0.0017 - acc: 1.0000\n",
            "Epoch 94/100\n",
            "82/82 [==============================] - 0s 394us/sample - loss: 0.0054 - acc: 1.0000\n",
            "Epoch 95/100\n",
            "82/82 [==============================] - 0s 258us/sample - loss: 0.0235 - acc: 0.9878\n",
            "Epoch 96/100\n",
            "82/82 [==============================] - 0s 397us/sample - loss: 0.0042 - acc: 1.0000\n",
            "Epoch 97/100\n",
            "82/82 [==============================] - 0s 362us/sample - loss: 0.0252 - acc: 0.9756\n",
            "Epoch 98/100\n",
            "82/82 [==============================] - 0s 292us/sample - loss: 0.0098 - acc: 1.0000\n",
            "Epoch 99/100\n",
            "82/82 [==============================] - 0s 308us/sample - loss: 0.0076 - acc: 1.0000\n",
            "Epoch 100/100\n",
            "82/82 [==============================] - 0s 297us/sample - loss: 0.0124 - acc: 1.0000\n",
            "25/25 [==============================] - 0s 5ms/sample - loss: 6.5478 - acc: 0.4800\n"
          ],
          "name": "stdout"
        },
        {
          "output_type": "execute_result",
          "data": {
            "text/plain": [
              "[6.547781467437744, 0.48]"
            ]
          },
          "metadata": {
            "tags": []
          },
          "execution_count": 60
        }
      ]
    },
    {
      "cell_type": "code",
      "metadata": {
        "id": "zUMMpNAozSVT",
        "colab_type": "code",
        "outputId": "47b4895e-adcd-49fa-8a82-1018b17b11b5",
        "colab": {
          "base_uri": "https://localhost:8080/",
          "height": 54
        }
      },
      "source": [
        "test_labels\n",
        "model.evaluate(test_data,test_labels)"
      ],
      "execution_count": 0,
      "outputs": [
        {
          "output_type": "stream",
          "text": [
            "\r25/25 [==============================] - 0s 472us/sample - loss: 6.5478 - acc: 0.4800\n"
          ],
          "name": "stdout"
        },
        {
          "output_type": "execute_result",
          "data": {
            "text/plain": [
              "[6.547781467437744, 0.48]"
            ]
          },
          "metadata": {
            "tags": []
          },
          "execution_count": 64
        }
      ]
    },
    {
      "cell_type": "code",
      "metadata": {
        "id": "zROgRekfPrAn",
        "colab_type": "code",
        "outputId": "a97accbc-6d3a-4434-ca9c-0c6d1c85d638",
        "colab": {
          "base_uri": "https://localhost:8080/",
          "height": 372
        }
      },
      "source": [
        ""
      ],
      "execution_count": 0,
      "outputs": [
        {
          "output_type": "stream",
          "text": [
            "WARNING:tensorflow:\n",
            "The TensorFlow contrib module will not be included in TensorFlow 2.0.\n",
            "For more information, please see:\n",
            "  * https://github.com/tensorflow/community/blob/master/rfcs/20180907-contrib-sunset.md\n",
            "  * https://github.com/tensorflow/addons\n",
            "  * https://github.com/tensorflow/io (for I/O related ops)\n",
            "If you depend on functionality not listed there, please file an issue.\n",
            "\n",
            "WARNING:tensorflow:From /usr/local/lib/python3.6/dist-packages/tensorflow_core/contrib/layers/python/layers/layers.py:1634: flatten (from tensorflow.python.layers.core) is deprecated and will be removed in a future version.\n",
            "Instructions for updating:\n",
            "Use keras.layers.flatten instead.\n",
            "WARNING:tensorflow:From /usr/local/lib/python3.6/dist-packages/tensorflow_core/python/layers/core.py:332: Layer.apply (from tensorflow.python.keras.engine.base_layer) is deprecated and will be removed in a future version.\n",
            "Instructions for updating:\n",
            "Please use `layer.__call__` method instead.\n",
            "images_flat:  Tensor(\"Flatten_5/flatten/Reshape:0\", shape=(?, 784), dtype=float32)\n",
            "logits:  Tensor(\"fully_connected/Relu:0\", shape=(?, 100), dtype=float32)\n",
            "loss:  Tensor(\"Mean:0\", shape=(), dtype=float32)\n",
            "predicted_labels:  Tensor(\"ArgMax:0\", shape=(?,), dtype=int64)\n"
          ],
          "name": "stdout"
        }
      ]
    },
    {
      "cell_type": "code",
      "metadata": {
        "id": "v3naSw1Q-UKj",
        "colab_type": "code",
        "colab": {}
      },
      "source": [
        ""
      ],
      "execution_count": 0,
      "outputs": []
    },
    {
      "cell_type": "code",
      "metadata": {
        "id": "SXnRLZ1Q2y1s",
        "colab_type": "code",
        "outputId": "74283c34-5515-414b-e5cb-f3a0e6447eb7",
        "colab": {
          "base_uri": "https://localhost:8080/",
          "height": 422
        }
      },
      "source": [
        ""
      ],
      "execution_count": 0,
      "outputs": [
        {
          "output_type": "stream",
          "text": [
            "EPOCH 0\n"
          ],
          "name": "stdout"
        },
        {
          "output_type": "error",
          "ename": "ValueError",
          "evalue": "ignored",
          "traceback": [
            "\u001b[0;31m---------------------------------------------------------------------------\u001b[0m",
            "\u001b[0;31mValueError\u001b[0m                                Traceback (most recent call last)",
            "\u001b[0;32m<ipython-input-62-8a22df591406>\u001b[0m in \u001b[0;36m<module>\u001b[0;34m()\u001b[0m\n\u001b[1;32m      5\u001b[0m \u001b[0;32mfor\u001b[0m \u001b[0mi\u001b[0m \u001b[0;32min\u001b[0m \u001b[0mrange\u001b[0m\u001b[0;34m(\u001b[0m\u001b[0;36m201\u001b[0m\u001b[0;34m)\u001b[0m\u001b[0;34m:\u001b[0m\u001b[0;34m\u001b[0m\u001b[0;34m\u001b[0m\u001b[0m\n\u001b[1;32m      6\u001b[0m         \u001b[0mprint\u001b[0m\u001b[0;34m(\u001b[0m\u001b[0;34m'EPOCH'\u001b[0m\u001b[0;34m,\u001b[0m \u001b[0mi\u001b[0m\u001b[0;34m)\u001b[0m\u001b[0;34m\u001b[0m\u001b[0;34m\u001b[0m\u001b[0m\n\u001b[0;32m----> 7\u001b[0;31m         \u001b[0m_\u001b[0m\u001b[0;34m,\u001b[0m \u001b[0maccuracy_val\u001b[0m \u001b[0;34m=\u001b[0m \u001b[0msess\u001b[0m\u001b[0;34m.\u001b[0m\u001b[0mrun\u001b[0m\u001b[0;34m(\u001b[0m\u001b[0;34m[\u001b[0m\u001b[0mtrain_op\u001b[0m\u001b[0;34m,\u001b[0m \u001b[0maccuracy\u001b[0m\u001b[0;34m]\u001b[0m\u001b[0;34m,\u001b[0m \u001b[0mfeed_dict\u001b[0m\u001b[0;34m=\u001b[0m\u001b[0;34m{\u001b[0m\u001b[0mx\u001b[0m\u001b[0;34m:\u001b[0m \u001b[0mtrain_data\u001b[0m\u001b[0;34m,\u001b[0m \u001b[0my\u001b[0m\u001b[0;34m:\u001b[0m \u001b[0mtrain_labels\u001b[0m\u001b[0;34m}\u001b[0m\u001b[0;34m)\u001b[0m\u001b[0;34m\u001b[0m\u001b[0;34m\u001b[0m\u001b[0m\n\u001b[0m\u001b[1;32m      8\u001b[0m         \u001b[0;32mif\u001b[0m \u001b[0mi\u001b[0m \u001b[0;34m%\u001b[0m \u001b[0;36m10\u001b[0m \u001b[0;34m==\u001b[0m \u001b[0;36m0\u001b[0m\u001b[0;34m:\u001b[0m\u001b[0;34m\u001b[0m\u001b[0;34m\u001b[0m\u001b[0m\n\u001b[1;32m      9\u001b[0m             \u001b[0mprint\u001b[0m\u001b[0;34m(\u001b[0m\u001b[0;34m\"accuracy: \"\u001b[0m\u001b[0;34m,\u001b[0m \u001b[0maccuracy_val\u001b[0m\u001b[0;34m)\u001b[0m\u001b[0;34m\u001b[0m\u001b[0;34m\u001b[0m\u001b[0m\n",
            "\u001b[0;32m/usr/local/lib/python3.6/dist-packages/tensorflow_core/python/client/session.py\u001b[0m in \u001b[0;36mrun\u001b[0;34m(self, fetches, feed_dict, options, run_metadata)\u001b[0m\n\u001b[1;32m    954\u001b[0m     \u001b[0;32mtry\u001b[0m\u001b[0;34m:\u001b[0m\u001b[0;34m\u001b[0m\u001b[0;34m\u001b[0m\u001b[0m\n\u001b[1;32m    955\u001b[0m       result = self._run(None, fetches, feed_dict, options_ptr,\n\u001b[0;32m--> 956\u001b[0;31m                          run_metadata_ptr)\n\u001b[0m\u001b[1;32m    957\u001b[0m       \u001b[0;32mif\u001b[0m \u001b[0mrun_metadata\u001b[0m\u001b[0;34m:\u001b[0m\u001b[0;34m\u001b[0m\u001b[0;34m\u001b[0m\u001b[0m\n\u001b[1;32m    958\u001b[0m         \u001b[0mproto_data\u001b[0m \u001b[0;34m=\u001b[0m \u001b[0mtf_session\u001b[0m\u001b[0;34m.\u001b[0m\u001b[0mTF_GetBuffer\u001b[0m\u001b[0;34m(\u001b[0m\u001b[0mrun_metadata_ptr\u001b[0m\u001b[0;34m)\u001b[0m\u001b[0;34m\u001b[0m\u001b[0;34m\u001b[0m\u001b[0m\n",
            "\u001b[0;32m/usr/local/lib/python3.6/dist-packages/tensorflow_core/python/client/session.py\u001b[0m in \u001b[0;36m_run\u001b[0;34m(self, handle, fetches, feed_dict, options, run_metadata)\u001b[0m\n\u001b[1;32m   1154\u001b[0m                 \u001b[0;34m'Cannot feed value of shape %r for Tensor %r, '\u001b[0m\u001b[0;34m\u001b[0m\u001b[0;34m\u001b[0m\u001b[0m\n\u001b[1;32m   1155\u001b[0m                 \u001b[0;34m'which has shape %r'\u001b[0m \u001b[0;34m%\u001b[0m\u001b[0;34m\u001b[0m\u001b[0;34m\u001b[0m\u001b[0m\n\u001b[0;32m-> 1156\u001b[0;31m                 (np_val.shape, subfeed_t.name, str(subfeed_t.get_shape())))\n\u001b[0m\u001b[1;32m   1157\u001b[0m           \u001b[0;32mif\u001b[0m \u001b[0;32mnot\u001b[0m \u001b[0mself\u001b[0m\u001b[0;34m.\u001b[0m\u001b[0mgraph\u001b[0m\u001b[0;34m.\u001b[0m\u001b[0mis_feedable\u001b[0m\u001b[0;34m(\u001b[0m\u001b[0msubfeed_t\u001b[0m\u001b[0;34m)\u001b[0m\u001b[0;34m:\u001b[0m\u001b[0;34m\u001b[0m\u001b[0;34m\u001b[0m\u001b[0m\n\u001b[1;32m   1158\u001b[0m             \u001b[0;32mraise\u001b[0m \u001b[0mValueError\u001b[0m\u001b[0;34m(\u001b[0m\u001b[0;34m'Tensor %s may not be fed.'\u001b[0m \u001b[0;34m%\u001b[0m \u001b[0msubfeed_t\u001b[0m\u001b[0;34m)\u001b[0m\u001b[0;34m\u001b[0m\u001b[0;34m\u001b[0m\u001b[0m\n",
            "\u001b[0;31mValueError\u001b[0m: Cannot feed value of shape (82, 28, 28, 3) for Tensor 'Placeholder_12:0', which has shape '(?, 28, 28)'"
          ]
        }
      ]
    },
    {
      "cell_type": "code",
      "metadata": {
        "id": "DhJS28Ex3ASu",
        "colab_type": "code",
        "outputId": "0c2d11c6-a327-4eea-937f-b47159792e01",
        "colab": {
          "base_uri": "https://localhost:8080/",
          "height": 1000
        }
      },
      "source": [
        "sample_indexes = random.sample(range(len(test_data)), 10)\n",
        "sample_images = [test_data[i] for i in sample_indexes]\n",
        "sample_labels = [test_labels[i] for i in sample_indexes]\n",
        "\n",
        "# Run the \"predicted_labels\" op.\n",
        "predicted = model.predict(test_data)\n",
        "                        \n",
        "# Print the real and predicted labels\n",
        "print(test_labels)\n",
        "print(predicted)"
      ],
      "execution_count": 0,
      "outputs": [
        {
          "output_type": "stream",
          "text": [
            "[[0. 0. 0. 1. 0.]\n",
            " [0. 0. 0. 1. 0.]\n",
            " [0. 0. 0. 1. 0.]\n",
            " [0. 0. 0. 1. 0.]\n",
            " [0. 0. 0. 1. 0.]\n",
            " [1. 0. 0. 0. 0.]\n",
            " [1. 0. 0. 0. 0.]\n",
            " [1. 0. 0. 0. 0.]\n",
            " [1. 0. 0. 0. 0.]\n",
            " [1. 0. 0. 0. 0.]\n",
            " [0. 0. 1. 0. 0.]\n",
            " [0. 0. 1. 0. 0.]\n",
            " [0. 0. 1. 0. 0.]\n",
            " [0. 0. 1. 0. 0.]\n",
            " [0. 0. 1. 0. 0.]\n",
            " [0. 1. 0. 0. 0.]\n",
            " [0. 1. 0. 0. 0.]\n",
            " [0. 1. 0. 0. 0.]\n",
            " [0. 1. 0. 0. 0.]\n",
            " [0. 1. 0. 0. 0.]\n",
            " [0. 0. 0. 0. 1.]\n",
            " [0. 0. 0. 0. 1.]\n",
            " [0. 0. 0. 0. 1.]\n",
            " [0. 0. 0. 0. 1.]\n",
            " [0. 0. 0. 0. 1.]]\n",
            "[[4.32998361e-03 2.18374657e-06 8.18890985e-05 9.94535327e-01\n",
            "  1.05059589e-03]\n",
            " [1.49073848e-03 4.14780334e-05 1.00675388e-03 9.95560765e-01\n",
            "  1.90030097e-03]\n",
            " [1.59421485e-04 7.04447120e-06 1.56217651e-03 9.98216689e-01\n",
            "  5.45738512e-05]\n",
            " [1.49115658e-04 8.75844853e-06 2.20163332e-04 9.97176170e-01\n",
            "  2.44584889e-03]\n",
            " [8.95319772e-06 1.09812994e-08 1.52176490e-05 9.99965787e-01\n",
            "  1.00026846e-05]\n",
            " [9.99998450e-01 1.44961086e-06 6.16941766e-24 8.78052882e-16\n",
            "  1.76814964e-07]\n",
            " [4.12751399e-02 1.88803230e-03 3.11744693e-11 1.12758791e-02\n",
            "  9.45560932e-01]\n",
            " [9.99999762e-01 2.61412112e-07 4.78118706e-16 1.26988849e-12\n",
            "  3.67738240e-09]\n",
            " [2.87372142e-01 1.39330119e-01 4.04205487e-08 3.85015681e-02\n",
            "  5.34796119e-01]\n",
            " [1.84395730e-01 3.29744190e-01 6.40044224e-13 2.66140546e-07\n",
            "  4.85859782e-01]\n",
            " [9.97373223e-01 5.14392974e-04 8.45900274e-07 2.19785652e-05\n",
            "  2.08964292e-03]\n",
            " [4.84851468e-03 1.49569626e-03 5.65559901e-07 4.86578494e-02\n",
            "  9.44997311e-01]\n",
            " [9.99581873e-01 1.00109221e-09 5.50145658e-11 6.31874063e-05\n",
            "  3.54952732e-04]\n",
            " [9.99996185e-01 2.66002246e-07 4.83062375e-12 8.96344901e-08\n",
            "  3.51620770e-06]\n",
            " [8.77146661e-01 2.65072799e-07 2.86420891e-06 1.22837275e-01\n",
            "  1.28855672e-05]\n",
            " [1.00000000e+00 5.67390268e-09 6.21426402e-22 9.09013673e-18\n",
            "  3.40627214e-11]\n",
            " [5.48313200e-01 3.54417413e-01 3.55207384e-08 9.36839655e-02\n",
            "  3.58539377e-03]\n",
            " [1.00000000e+00 3.44708345e-10 1.60402259e-16 1.08762090e-10\n",
            "  3.17971893e-09]\n",
            " [9.99024868e-01 1.07090003e-04 4.32458847e-10 2.48496144e-06\n",
            "  8.65622133e-04]\n",
            " [9.99999762e-01 1.40314555e-07 1.31484596e-15 7.06749850e-12\n",
            "  1.28840199e-07]\n",
            " [8.06878306e-05 8.82501990e-05 2.75777013e-04 5.97173162e-03\n",
            "  9.93583500e-01]\n",
            " [5.47059608e-05 1.07603637e-05 1.34513513e-07 4.42706041e-05\n",
            "  9.99890089e-01]\n",
            " [4.29210049e-05 9.80655532e-05 4.34609149e-07 4.14405731e-05\n",
            "  9.99817193e-01]\n",
            " [1.44899386e-04 2.83992795e-05 7.28028908e-07 2.28402219e-04\n",
            "  9.99597609e-01]\n",
            " [2.83658756e-05 5.20467074e-05 7.65480072e-05 2.31575407e-03\n",
            "  9.97527301e-01]]\n"
          ],
          "name": "stdout"
        }
      ]
    },
    {
      "cell_type": "code",
      "metadata": {
        "colab_type": "code",
        "outputId": "3c4d8f13-3050-498d-9a48-4e9f40425733",
        "id": "CAhxUQ5m2Iao",
        "colab": {
          "base_uri": "https://localhost:8080/",
          "height": 36
        }
      },
      "source": [
        "count=0\n",
        "for i in range(len(predicted)):\n",
        "  if np.where(predicted[i]==max(predicted[i]))==np.where(test_labels[i]==max(test_labels[i])):\n",
        "    count+=1\n",
        "count,len(predicted)"
      ],
      "execution_count": 0,
      "outputs": [
        {
          "output_type": "execute_result",
          "data": {
            "text/plain": [
              "(12, 25)"
            ]
          },
          "metadata": {
            "tags": []
          },
          "execution_count": 80
        }
      ]
    },
    {
      "cell_type": "code",
      "metadata": {
        "id": "Rv_pbQsgCDBM",
        "colab_type": "code",
        "outputId": "c38345d9-debf-4503-af0b-216d6d7bcad0",
        "colab": {
          "base_uri": "https://localhost:8080/",
          "height": 36
        }
      },
      "source": [
        "np.where(predicted[i]==max(predicted[i]))"
      ],
      "execution_count": 0,
      "outputs": [
        {
          "output_type": "execute_result",
          "data": {
            "text/plain": [
              "(array([4]),)"
            ]
          },
          "metadata": {
            "tags": []
          },
          "execution_count": 84
        }
      ]
    },
    {
      "cell_type": "code",
      "metadata": {
        "id": "BGM_Y3azyXn8",
        "colab_type": "code",
        "outputId": "ec0ef613-d9b6-470c-91d9-1231b9183804",
        "colab": {
          "base_uri": "https://localhost:8080/",
          "height": 316
        }
      },
      "source": [
        "# Display the predictions and the ground truth visually.\n",
        "fig = plt.figure(figsize=(15, 15))\n",
        "for i in range(len(test_data)):\n",
        "    truth = test_labels[i]\n",
        "    prediction = predicted[i]\n",
        "    plt.subplot(13, 5,1+i)\n",
        "    plt.axis('off')\n",
        "    color='green' if truth == prediction else 'red'\n",
        "    plt.text(40, 10, \"Truth:        {0}\\nPrediction: {1}\".format(chr(truth), chr(prediction)), \n",
        "             fontsize=12, color=color)\n",
        "    plt.imshow(test_data[i],cmap='gray')\n",
        "\n",
        "plt.show()"
      ],
      "execution_count": 0,
      "outputs": [
        {
          "output_type": "error",
          "ename": "ValueError",
          "evalue": "ignored",
          "traceback": [
            "\u001b[0;31m---------------------------------------------------------------------------\u001b[0m",
            "\u001b[0;31mValueError\u001b[0m                                Traceback (most recent call last)",
            "\u001b[0;32m<ipython-input-66-cd128ad22923>\u001b[0m in \u001b[0;36m<module>\u001b[0;34m()\u001b[0m\n\u001b[1;32m      5\u001b[0m     \u001b[0mplt\u001b[0m\u001b[0;34m.\u001b[0m\u001b[0msubplot\u001b[0m\u001b[0;34m(\u001b[0m\u001b[0;36m13\u001b[0m\u001b[0;34m,\u001b[0m \u001b[0;36m5\u001b[0m\u001b[0;34m,\u001b[0m\u001b[0;36m1\u001b[0m\u001b[0;34m+\u001b[0m\u001b[0mi\u001b[0m\u001b[0;34m)\u001b[0m\u001b[0;34m\u001b[0m\u001b[0;34m\u001b[0m\u001b[0m\n\u001b[1;32m      6\u001b[0m     \u001b[0mplt\u001b[0m\u001b[0;34m.\u001b[0m\u001b[0maxis\u001b[0m\u001b[0;34m(\u001b[0m\u001b[0;34m'off'\u001b[0m\u001b[0;34m)\u001b[0m\u001b[0;34m\u001b[0m\u001b[0;34m\u001b[0m\u001b[0m\n\u001b[0;32m----> 7\u001b[0;31m     \u001b[0mcolor\u001b[0m\u001b[0;34m=\u001b[0m\u001b[0;34m'green'\u001b[0m \u001b[0;32mif\u001b[0m \u001b[0mtruth\u001b[0m \u001b[0;34m==\u001b[0m \u001b[0mprediction\u001b[0m \u001b[0;32melse\u001b[0m \u001b[0;34m'red'\u001b[0m\u001b[0;34m\u001b[0m\u001b[0;34m\u001b[0m\u001b[0m\n\u001b[0m\u001b[1;32m      8\u001b[0m     plt.text(40, 10, \"Truth:        {0}\\nPrediction: {1}\".format(chr(truth), chr(prediction)), \n\u001b[1;32m      9\u001b[0m              fontsize=12, color=color)\n",
            "\u001b[0;31mValueError\u001b[0m: The truth value of an array with more than one element is ambiguous. Use a.any() or a.all()"
          ]
        },
        {
          "output_type": "display_data",
          "data": {
            "image/png": "[encoded data removed]",
            "text/plain": [
              "<Figure size 1080x1080 with 1 Axes>"
            ]
          },
          "metadata": {
            "tags": []
          }
        }
      ]
    },
    {
      "cell_type": "code",
      "metadata": {
        "id": "Mfj1BHz5-y8X",
        "colab_type": "code",
        "colab": {}
      },
      "source": [
        "sess.close()"
      ],
      "execution_count": 0,
      "outputs": []
    }
  ]
}