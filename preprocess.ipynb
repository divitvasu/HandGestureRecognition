{
 "cells": [
  {
   "cell_type": "markdown",
   "metadata": {
    "colab_type": "text",
    "id": "view-in-github"
   },
   "source": [
    "<a href=\"https://colab.research.google.com/github/jainkrunal/HandGestureRecognition/blob/master/preprocess.ipynb\" target=\"_parent\"><img src=\"https://colab.research.google.com/assets/colab-badge.svg\" alt=\"Open In Colab\"/></a>"
   ]
  },
  {
   "cell_type": "code",
   "execution_count": 1,
   "metadata": {
    "colab": {
     "base_uri": "https://localhost:8080/",
     "height": 35
    },
    "colab_type": "code",
    "id": "fMtjCciZVue2",
    "outputId": "cd5159f6-d944-4151-893e-f4bc35d6cdec"
   },
   "outputs": [],
   "source": [
    "#! git clone https://github.com/jainkrunal/HandGestureRecognition  "
   ]
  },
  {
   "cell_type": "code",
   "execution_count": 2,
   "metadata": {
    "colab": {
     "base_uri": "https://localhost:8080/",
     "height": 35
    },
    "colab_type": "code",
    "id": "Y0B1_kvcFvBZ",
    "outputId": "540defe7-536b-413c-8935-6a0fa94e8f0e"
   },
   "outputs": [],
   "source": [
    "#! ls"
   ]
  },
  {
   "cell_type": "code",
   "execution_count": 3,
   "metadata": {
    "colab": {},
    "colab_type": "code",
    "id": "eb40dDS3GnPM"
   },
   "outputs": [],
   "source": [
    "from skimage import transform\n",
    "from skimage import data\n",
    "import matplotlib.pyplot as plt\n",
    "import os\n",
    "import numpy as np\n",
    "from skimage.color import rgb2gray\n",
    "import random\n",
    "import pandas as pd"
   ]
  },
  {
   "cell_type": "code",
   "execution_count": 4,
   "metadata": {},
   "outputs": [
    {
     "data": {
      "text/plain": [
       "'D:\\\\Krunal\\\\HandGestureRecognition'"
      ]
     },
     "execution_count": 4,
     "metadata": {},
     "output_type": "execute_result"
    }
   ],
   "source": [
    "os.getcwd()"
   ]
  },
  {
   "cell_type": "code",
   "execution_count": 5,
   "metadata": {
    "colab": {},
    "colab_type": "code",
    "id": "k0eDNqzNF_gZ"
   },
   "outputs": [],
   "source": [
    "def load_data(data_directory):\n",
    "    directories = [d for d in os.listdir(data_directory) \n",
    "                   if os.path.isdir(os.path.join(data_directory, d))]\n",
    "    labels = []\n",
    "    images = []\n",
    "    for d in directories:\n",
    "        label_directory = os.path.join(data_directory, d)\n",
    "        file_names = [os.path.join(label_directory, f) for f in os.listdir(label_directory)]\n",
    "        for f in file_names:\n",
    "            images.append(data.imread(f))\n",
    "            labels.append(ord(d))\n",
    "    return images, labels\n",
    "  \n",
    "  \n",
    "ROOT_PATH=\"Data\"\n",
    "train_data_directory=os.path.join(ROOT_PATH, \"train\")\n",
    "test_data_directory=os.path.join(ROOT_PATH, \"test\")\n",
    "\n",
    "train_data, train_labels=load_data(train_data_directory)\n",
    "test_data, test_labels=load_data(test_data_directory)"
   ]
  },
  {
   "cell_type": "code",
   "execution_count": 6,
   "metadata": {
    "colab": {},
    "colab_type": "code",
    "id": "I1SkiDbUHTW6"
   },
   "outputs": [],
   "source": [
    "# Resize images\n",
    "def image_resize(images):\n",
    "  images32 = [transform.resize(image, (28, 28,3)) for image in images]\n",
    "  images32 = np.array(images32)\n",
    "  return images32 \n",
    "train_data = image_resize(train_data)\n",
    "test_data = image_resize(test_data)"
   ]
  },
  {
   "cell_type": "code",
   "execution_count": 7,
   "metadata": {},
   "outputs": [],
   "source": [
    "np.save(\"train_data.npy\",train_data)\n",
    "np.save(\"test_data.npy\",test_data)"
   ]
  },
  {
   "cell_type": "code",
   "execution_count": 8,
   "metadata": {
    "colab": {
     "base_uri": "https://localhost:8080/",
     "height": 35
    },
    "colab_type": "code",
    "id": "r2Hn9hbVNUYq",
    "outputId": "a1410b4d-f6e3-4c27-e9cc-9d9b5fab93d0"
   },
   "outputs": [],
   "source": [
    "#images_array=[]\n",
    "#for x in image32:\n",
    "#  images_array.append(x.flatten())\n",
    "\n",
    "#images_array = np.array(images_array)\n",
    "#images_array.shape"
   ]
  },
  {
   "cell_type": "code",
   "execution_count": 9,
   "metadata": {
    "colab": {
     "base_uri": "https://localhost:8080/",
     "height": 256
    },
    "colab_type": "code",
    "id": "3BTUL_euZCPu",
    "outputId": "5f60198d-a7e1-4087-89e5-b7d3849ef349"
   },
   "outputs": [],
   "source": [
    "#df=pd.DataFrame(images_array)\n",
    "#df.head()\n",
    "#df.to_csv(\"HandGestureRecognition/dataset.csv\",index=False)"
   ]
  },
  {
   "cell_type": "code",
   "execution_count": 10,
   "metadata": {
    "colab": {},
    "colab_type": "code",
    "id": "b7YStaaPccUW"
   },
   "outputs": [],
   "source": [
    "##np.save(\"train_data_flatten.npy\",train_data)"
   ]
  }
 ],
 "metadata": {
  "colab": {
   "collapsed_sections": [],
   "include_colab_link": true,
   "name": "preprocess.ipynb",
   "provenance": []
  },
  "kernelspec": {
   "display_name": "Python 3",
   "language": "python",
   "name": "python3"
  },
  "language_info": {
   "codemirror_mode": {
    "name": "ipython",
    "version": 3
   },
   "file_extension": ".py",
   "mimetype": "text/x-python",
   "name": "python",
   "nbconvert_exporter": "python",
   "pygments_lexer": "ipython3",
   "version": "3.7.3"
  }
 },
 "nbformat": 4,
 "nbformat_minor": 1
}
