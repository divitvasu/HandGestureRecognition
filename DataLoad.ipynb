{
  "nbformat": 4,
  "nbformat_minor": 0,
  "metadata": {
    "colab": {
      "name": "DataLoad.ipynb",
      "version": "0.3.2",
      "provenance": [],
      "private_outputs": true,
      "collapsed_sections": []
    },
    "kernelspec": {
      "name": "python3",
      "display_name": "Python 3"
    }
  },
  "cells": [
    {
      "cell_type": "code",
      "metadata": {
        "id": "7FFjOGGA4yaO",
        "colab_type": "code",
        "colab": {}
      },
      "source": [
        "from skimage import transform\n",
        "from skimage import data\n",
        "import matplotlib.pyplot as plt\n",
        "import os\n",
        "import numpy as np\n",
        "from skimage.color import rgb2gray\n",
        "import random\n",
        "import tensorflow as tf\n",
        "\n",
        "print(\"Done\")"
      ],
      "execution_count": 0,
      "outputs": []
    }
  ]
}